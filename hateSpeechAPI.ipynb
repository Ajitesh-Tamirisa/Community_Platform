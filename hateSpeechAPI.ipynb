{
 "cells": [
  {
   "cell_type": "code",
   "execution_count": null,
   "id": "802c307e",
   "metadata": {},
   "outputs": [
    {
     "name": "stdout",
     "output_type": "stream",
     "text": [
      " * Serving Flask app '__main__' (lazy loading)\n",
      " * Environment: production\n",
      "\u001b[31m   WARNING: This is a development server. Do not use it in a production deployment.\u001b[0m\n",
      "\u001b[2m   Use a production WSGI server instead.\u001b[0m\n",
      " * Debug mode: off\n"
     ]
    },
    {
     "name": "stderr",
     "output_type": "stream",
     "text": [
      " * Running on http://127.0.0.1:5000 (Press CTRL+C to quit)\n",
      "127.0.0.1 - - [10/Aug/2022 21:58:23] \"OPTIONS /moderator HTTP/1.1\" 200 -\n",
      "127.0.0.1 - - [10/Aug/2022 21:59:47] \"POST /moderator HTTP/1.1\" 200 -\n"
     ]
    },
    {
     "name": "stdout",
     "output_type": "stream",
     "text": [
      "['Hate Speech']\n",
      "<class 'list'>\n"
     ]
    }
   ],
   "source": [
    "from flask import Flask, request, jsonify\n",
    "from flask_cors import CORS, cross_origin\n",
    "\n",
    "app = Flask(__name__)\n",
    "\n",
    "CORS(app)\n",
    "cors = CORS(app, resources={\n",
    "        r\"/*\" : {\n",
    "            \"origins\" : \"*\"\n",
    "        }\n",
    "    })\n",
    "\n",
    "\n",
    "@app.route('/moderator', methods=['GET','POST'])\n",
    "def moderate():\n",
    "    if request.method == 'POST':\n",
    "        text = request.json['text']\n",
    "        from nltk.util import pr\n",
    "        import pandas as pd\n",
    "        import numpy as np\n",
    "        from sklearn.feature_extraction.text import CountVectorizer\n",
    "        from sklearn.model_selection import train_test_split\n",
    "        from sklearn.tree import DecisionTreeClassifier\n",
    "\n",
    "        data = pd.read_csv(\"hate.csv\")\n",
    "        #print(data.head())\n",
    "\n",
    "        data[\"labels\"] = data[\"class\"].map({0: \"Hate Speech\", 1: \"Offensive Language\", 2: \"No Hate and Offensive\"})\n",
    "        #print(data.head())\n",
    "\n",
    "        data = data[[\"tweet\", \"labels\"]]\n",
    "        #print(data.head())\n",
    "\n",
    "        import re\n",
    "        import nltk\n",
    "        stemmer = nltk.SnowballStemmer(\"english\")\n",
    "        from nltk.corpus import stopwords\n",
    "        import string\n",
    "        stopword=set(stopwords.words('english'))\n",
    "\n",
    "        def clean(text):\n",
    "            text = str(text).lower()\n",
    "            text = re.sub('\\[.*?\\]', '', text)\n",
    "            text = re.sub('https?://\\S+|www\\.\\S+', '', text)\n",
    "            text = re.sub('<.*?>+', '', text)\n",
    "            text = re.sub('[%s]' % re.escape(string.punctuation), '', text)\n",
    "            text = re.sub('\\n', '', text)\n",
    "            text = re.sub('\\w*\\d\\w*', '', text)\n",
    "            text = [word for word in text.split(' ') if word not in stopword]\n",
    "            text=\" \".join(text)\n",
    "            text = [stemmer.stem(word) for word in text.split(' ')]\n",
    "            text=\" \".join(text)\n",
    "            return text\n",
    "        data[\"tweet\"] = data[\"tweet\"].apply(clean)\n",
    "        #print(data.head())\n",
    "\n",
    "        x = np.array(data[\"tweet\"])\n",
    "        y = np.array(data[\"labels\"])\n",
    "\n",
    "        cv = CountVectorizer()\n",
    "        X = cv.fit_transform(x) # Fit the Data\n",
    "        X_train, X_test, y_train, y_test = train_test_split(X, y, test_size=0.33, random_state=42)\n",
    "\n",
    "        clf = DecisionTreeClassifier()\n",
    "        clf.fit(X_train,y_train)\n",
    "        clf.score(X_test,y_test)\n",
    "\n",
    "        #sample = input(\"Enter any line : \")\n",
    "        sample = text\n",
    "        data = cv.transform([sample]).toarray()\n",
    "        res = clf.predict(data).tolist()\n",
    "        print(res)\n",
    "        print(type(res))\n",
    "\n",
    "        result = { \"Result\" : res[0] }\n",
    "\n",
    "        return jsonify(result)\n",
    "    \n",
    "    if request.method == 'GET':\n",
    "        return \"<h1> Content Moderator API </h1>\"\n",
    "\n",
    "if __name__ == \"__main__\":\n",
    "    app.run()"
   ]
  },
  {
   "cell_type": "code",
   "execution_count": null,
   "id": "3017889f",
   "metadata": {},
   "outputs": [],
   "source": []
  }
 ],
 "metadata": {
  "kernelspec": {
   "display_name": "Python 3 (ipykernel)",
   "language": "python",
   "name": "python3"
  },
  "language_info": {
   "codemirror_mode": {
    "name": "ipython",
    "version": 3
   },
   "file_extension": ".py",
   "mimetype": "text/x-python",
   "name": "python",
   "nbconvert_exporter": "python",
   "pygments_lexer": "ipython3",
   "version": "3.8.1"
  }
 },
 "nbformat": 4,
 "nbformat_minor": 5
}
